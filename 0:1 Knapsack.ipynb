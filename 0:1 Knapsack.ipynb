{
 "cells": [
  {
   "cell_type": "code",
   "execution_count": 1,
   "metadata": {},
   "outputs": [],
   "source": [
    "import matplotlib.pyplot as plt"
   ]
  },
  {
   "cell_type": "code",
   "execution_count": 19,
   "metadata": {},
   "outputs": [],
   "source": [
    "population_size = 5\n",
    "no_of_generations = 5\n",
    "no_of_items = 5\n",
    "max_weight = 11\n",
    "wt = [1,2,5,6,7]\n",
    "pt = [1,6,18,22,28]\n",
    "population = []\n",
    "sum_points_generation = []"
   ]
  },
  {
   "cell_type": "code",
   "execution_count": 20,
   "metadata": {},
   "outputs": [],
   "source": [
    "def valid_pop(chrom):\n",
    "    x = 0\n",
    "    for i in range(0,no_of_items):\n",
    "        if chrom[i] is \"1\":\n",
    "            x += wt[i]\n",
    "            \n",
    "    #print(\"weight\" , x)\n",
    "    if x <= max_weight:\n",
    "        return 1\n",
    "    else :\n",
    "        return 0"
   ]
  },
  {
   "cell_type": "code",
   "execution_count": 21,
   "metadata": {},
   "outputs": [],
   "source": [
    "#valid_pop(\"111\")"
   ]
  },
  {
   "cell_type": "code",
   "execution_count": 22,
   "metadata": {},
   "outputs": [],
   "source": [
    "import random\n",
    "def rand_key(p): \n",
    "    key1 = \"\" \n",
    "    \n",
    "    for i in range(p): \n",
    "        temp = str(random.randint(0, 1)) \n",
    "        key1 += temp           \n",
    "    return(key1) "
   ]
  },
  {
   "cell_type": "code",
   "execution_count": 23,
   "metadata": {},
   "outputs": [],
   "source": [
    "i = 0\n",
    "while i < population_size :\n",
    "    #print(\"i :\",i)\n",
    "    str1 = rand_key(no_of_items)\n",
    "    #print(\"str\" ,str1)\n",
    "    if (valid_pop(str1) == 1):\n",
    "        population.append(str1)\n",
    "        i = i+1\n",
    "    #else:                              #(valid_pop(str1) == 0):\n",
    "        #print(\"rejected\")\n"
   ]
  },
  {
   "cell_type": "code",
   "execution_count": 24,
   "metadata": {},
   "outputs": [],
   "source": [
    "#population\n"
   ]
  },
  {
   "cell_type": "code",
   "execution_count": 25,
   "metadata": {},
   "outputs": [],
   "source": [
    "mutation_rate = 0.2\n",
    "mutation = mutation_rate * no_of_generations\n",
    "\n",
    "mutate_generation = []\n",
    "for i in range(int(mutation)):\n",
    "    gen_no = random.randint(1,no_of_generations)\n",
    "    mutate_generation.append(gen_no)\n",
    "\n",
    "#mutate_generation\n"
   ]
  },
  {
   "cell_type": "code",
   "execution_count": 26,
   "metadata": {},
   "outputs": [
    {
     "name": "stdout",
     "output_type": "stream",
     "text": [
      "weight:\n",
      "[1, 2, 5, 6, 7]\n",
      "points\n",
      "[1, 6, 18, 22, 28]\n",
      "Initial Population :\n",
      "['11000', '01001', '00110', '10100', '00000']\n",
      "mutation generation\n",
      "[4]\n",
      "--------------------------------------------\n",
      "Generation# 1\n",
      "Candidate parent-1 : 00000 0\n",
      "Candidate parent-2 : 10100 19\n",
      "After Crossover: 00100\n",
      "child-weight 5\n",
      "child-point 18\n",
      "parent 1:  00000\n",
      "parent 2:  10100\n",
      "parent 1 points:  0\n",
      "parent 2 points:  19\n",
      "Child : 00100 with score : 18 replaces Parent 1 :00000 with score 0\n",
      "Child 00100 Weight 5 Point 18\n",
      "maximum points 40\n",
      "best solution 00110\n",
      "Points Sum 29\n",
      "-------------------------------------------------------------\n",
      "Generation# 2\n",
      "Candidate parent-1 : 11000 7\n",
      "Candidate parent-2 : 00100 18\n",
      "After Crossover: 11100\n",
      "child-weight 8\n",
      "child-point 25\n",
      "parent 1:  11000\n",
      "parent 2:  00100\n",
      "parent 1 points:  7\n",
      "parent 2 points:  18\n",
      "Child : 11100 with score : 25 replaces Parent 1 :11000 with score 7\n",
      "Child 11100 Weight 8 Point 25\n",
      "maximum points 40\n",
      "best solution 00110\n",
      "Points Sum 34\n",
      "-------------------------------------------------------------\n",
      "Generation# 3\n",
      "Candidate parent-1 : 00100 18\n",
      "Candidate parent-2 : 01001 34\n",
      "After Crossover: 00001\n",
      "child-weight 7\n",
      "child-point 28\n",
      "parent 1:  00100\n",
      "parent 2:  01001\n",
      "parent 1 points:  18\n",
      "parent 2 points:  34\n",
      "Child : 00001 with score : 28 replaces Parent 1 :00100 with score 18\n",
      "Child 00001 Weight 7 Point 28\n",
      "maximum points 40\n",
      "best solution 00110\n",
      "Points Sum 39\n",
      "-------------------------------------------------------------\n",
      "Generation# 4\n",
      "Candidate parent-1 : 00001 28\n",
      "Candidate parent-2 : 01001 34\n",
      "After Crossover: 00001\n",
      "After Mutation: 01001\n",
      "child-weight 9\n",
      "child-point 34\n",
      "parent 1:  00001\n",
      "parent 2:  01001\n",
      "parent 1 points:  28\n",
      "parent 2 points:  34\n",
      "Child : 01001 with score : 34 replaces Parent 1 :00001 with score 28\n",
      "Child 01001 Weight 9 Point 34\n",
      "maximum points 40\n",
      "best solution 00110\n",
      "Points Sum 41\n",
      "-------------------------------------------------------------\n",
      "Generation# 5\n",
      "Candidate parent-1 : 11100 25\n",
      "Candidate parent-2 : 01001 34\n",
      "After Crossover: 11001\n",
      "child-weight 10\n",
      "child-point 35\n",
      "parent 1:  11100\n",
      "parent 2:  01001\n",
      "parent 1 points:  25\n",
      "parent 2 points:  34\n",
      "Child : 11001 with score : 35 replaces Parent 1 :11100 with score 25\n",
      "Child 11001 Weight 10 Point 35\n",
      "maximum points 40\n",
      "best solution 00110\n",
      "Points Sum 43\n",
      "-------------------------------------------------------------\n"
     ]
    }
   ],
   "source": [
    "import random\n",
    "\n",
    "#wt = [10,20,30]\n",
    "#pt = [60,100,120]\n",
    "\n",
    "score = [0] * population_size\n",
    "weight= [0] * population_size\n",
    "#print(\"score\",score)\n",
    "#print(\"weight\",weight)\n",
    "print(\"weight:\")\n",
    "print(wt)\n",
    "print(\"points\")\n",
    "print(pt)\n",
    "print(\"Initial Population :\")\n",
    "print(population)\n",
    "print(\"mutation generation\")\n",
    "print(mutate_generation)\n",
    "print(\"--------------------------------------------\")\n",
    "\n",
    "def fitScore(chrom):\n",
    "    x = 0\n",
    "    y = 0\n",
    "    for i in range(0,len(wt)):\n",
    "        if chrom[i] is \"1\":\n",
    "            x+= wt[i]\n",
    "            y+= pt[i]\n",
    "    return x, y\n",
    "\n",
    "\n",
    "def evolve(c1,scr,p1,p2,t1,t2):\n",
    "    print(\"parent 1: \",p1)\n",
    "    print(\"parent 2: \",p2)\n",
    "    print(\"parent 1 points: \",score[t1])\n",
    "    print(\"parent 2 points: \",score[t2])\n",
    "    flag = 0\n",
    "    \n",
    "    if score[t1] < scr:\n",
    "        print(f'Child : {c1} with score : {scr} replaces Parent 1 :{p1} with score {score[t1]}')\n",
    "        score[t1] = scr\n",
    "        population[t1] = c1\n",
    "        flag = 1\n",
    "        \n",
    "    if score[t2] < scr and flag == 0 :\n",
    "        print(f'Child : {c1} with score : {scr} replaces Parent 2 :{p2} with score {score[t2]}')\n",
    "        score[t2] = scr\n",
    "        population[t2] = c1\n",
    "        \n",
    "\n",
    "i=1\n",
    "while (i<= no_of_generations):\n",
    "    points_sum = 0\n",
    "    print(\"Generation#\",i)\n",
    "    # fitness score all\n",
    "    for j in range(0,len(population)):\n",
    "        weight[j],score[j] = fitScore(population[j])\n",
    "        points_sum += weight[j]\n",
    "        #print(population[j],weight[j],score[j])\n",
    "        #print(\"score\",score)\n",
    "        #print(\"weight\",weight)\n",
    "    \n",
    "    sum_points_generation.append(points_sum)\n",
    "    \n",
    "    \n",
    "    # Selection\n",
    "    t1 = random.randint(0,population_size-1) # these are candidates\n",
    "    t2 = random.randint(0,population_size-1)\n",
    "    ''''while(t1==t2):\n",
    "        t1 = random.randint(1, 3)'''\n",
    "\n",
    "    p1 =population[t1]\n",
    "    p2= population[t2]\n",
    "    print(\"Candidate parent-1 :\",p1,score[t1])\n",
    "    print(\"Candidate parent-2 :\",p2,score[t2])\n",
    "    \n",
    "    #Crossover\n",
    "    split_point = len(wt)//2\n",
    "    #split_point =  random.randint(0,len(wt)-1)\n",
    "    c1 = p1[0:split_point] + p2[split_point:]\n",
    "    print(\"After Crossover:\",c1)\n",
    "    \n",
    "    #Mutation\n",
    "    if i in mutate_generation:\n",
    "        child = [0] * no_of_items\n",
    "        t3 = random.randint(0, no_of_items-1)\n",
    "        for j in range(0,len(wt)):\n",
    "            child[j] = c1[j]\n",
    "\n",
    "        if child[t3] == '1':\n",
    "            child[t3] = '0'\n",
    "        else:\n",
    "            child[t3] = '1'\n",
    "\n",
    "        c1 = ''.join(child)\n",
    "        print(\"After Mutation:\", c1)\n",
    "        \n",
    "    #Validation\n",
    "    child_weight, child_score = fitScore(c1)\n",
    "    print('child-weight',child_weight)\n",
    "    print('child-point',child_score)\n",
    "        \n",
    "    if child_weight <= max_weight:\n",
    "        evolve(c1,child_score,p1,p2,t1,t2)\n",
    "    \n",
    "    if child_weight > max_weight:\n",
    "        print(\"Maximum weight exceeded!!\")\n",
    "\n",
    "    print(\"Child\",c1,\"Weight\",child_weight,\"Point\",child_score)\n",
    "    #print(\"Parents:\")\n",
    "    #print(population)\n",
    "    print(\"maximum points\",max(score))\n",
    "    index = score.index(max(score))\n",
    "    print(\"best solution\",population[index])\n",
    "    print(\"Points Sum\",points_sum)\n",
    "    i+=1\n",
    "    print(\"-------------------------------------------------------------\")"
   ]
  },
  {
   "cell_type": "code",
   "execution_count": 27,
   "metadata": {},
   "outputs": [
    {
     "data": {
      "text/plain": [
       "Text(0, 0.5, 'generation score')"
      ]
     },
     "execution_count": 27,
     "metadata": {},
     "output_type": "execute_result"
    },
    {
     "data": {
      "image/png": "[encoded data removed]",
      "text/plain": [
       "<Figure size 432x288 with 1 Axes>"
      ]
     },
     "metadata": {
      "needs_background": "light"
     },
     "output_type": "display_data"
    }
   ],
   "source": [
    "#sum_points_generation\n",
    "plt.plot(sum_points_generation)\n",
    "plt.xlabel(\"generation no.\")\n",
    "plt.ylabel(\"generation score\")"
   ]
  },
  {
   "cell_type": "code",
   "execution_count": 146,
   "metadata": {},
   "outputs": [],
   "source": [
    "#random.randint(0,2)"
   ]
  },
  {
   "cell_type": "code",
   "execution_count": null,
   "metadata": {},
   "outputs": [],
   "source": []
  },
  {
   "cell_type": "code",
   "execution_count": null,
   "metadata": {},
   "outputs": [],
   "source": []
  }
 ],
 "metadata": {
  "kernelspec": {
   "display_name": "Python 3",
   "language": "python",
   "name": "python3"
  },
  "language_info": {
   "codemirror_mode": {
    "name": "ipython",
    "version": 3
   },
   "file_extension": ".py",
   "mimetype": "text/x-python",
   "name": "python",
   "nbconvert_exporter": "python",
   "pygments_lexer": "ipython3",
   "version": "3.7.3"
  }
 },
 "nbformat": 4,
 "nbformat_minor": 2
}
